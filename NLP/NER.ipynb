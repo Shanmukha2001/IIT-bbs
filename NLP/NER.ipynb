{
  "nbformat": 4,
  "nbformat_minor": 0,
  "metadata": {
    "colab": {
      "provenance": [],
      "toc_visible": true
    },
    "kernelspec": {
      "name": "python3",
      "display_name": "Python 3"
    },
    "language_info": {
      "name": "python"
    }
  },
  "cells": [
    {
      "cell_type": "code",
      "execution_count": 1,
      "metadata": {
        "id": "hhfu_QCxAeq1"
      },
      "outputs": [],
      "source": [
        "import spacy\n",
        "import nltk\n",
        "nlp = spacy.load(\"en_core_web_sm\")"
      ]
    },
    {
      "cell_type": "markdown",
      "source": [
        "# Named Entity Recognition"
      ],
      "metadata": {
        "id": "sGmdc3OfEFWR"
      }
    },
    {
      "cell_type": "markdown",
      "source": [
        "Excersie: 1\n",
        "Extract all the Geographical (cities, Countries, states) names from a given text\n",
        "\n",
        "Expected Output:\n",
        "\n",
        "Geographical location Names: [India, Delhi, Gujarat, Tamilnadu, Andhrapradesh, Assam, Bihar]"
      ],
      "metadata": {
        "id": "JLsE6xkUAyxN"
      }
    },
    {
      "cell_type": "code",
      "source": [
        "text = \"\"\"Kiran want to know the famous foods in each state of India. So, he opened Google and search for this question. Google showed that\n",
        "in Delhi it is Chaat, in Gujarat it is Dal Dhokli, in Tamilnadu it is Pongal, in Andhrapradesh it is Biryani, in Assam it is Papaya Khar,\n",
        "in Bihar it is Litti Chowkha and so on for all other states\"\"\"\n",
        "\n",
        "doc = nlp(text)"
      ],
      "metadata": {
        "id": "6_rceroKAlmo"
      },
      "execution_count": 21,
      "outputs": []
    },
    {
      "cell_type": "code",
      "source": [
        "l = []\n",
        "for ent in doc.ents:\n",
        "  if ent.label_ == \"GPE\":\n",
        "    l.append(ent)\n",
        "l,len(l)"
      ],
      "metadata": {
        "colab": {
          "base_uri": "https://localhost:8080/"
        },
        "id": "UDbZ1SmdAnUt",
        "outputId": "3e9e0098-b4a6-4811-dcc0-489245e2fc0d"
      },
      "execution_count": 22,
      "outputs": [
        {
          "output_type": "execute_result",
          "data": {
            "text/plain": [
              "([India, Delhi, Gujarat, Tamilnadu, Pongal, Andhrapradesh, Assam, Bihar], 8)"
            ]
          },
          "metadata": {},
          "execution_count": 22
        }
      ]
    },
    {
      "cell_type": "markdown",
      "source": [
        "\n",
        "Excersie: 2\n",
        "Extract all the birth dates of cricketers in the given Text"
      ],
      "metadata": {
        "id": "W5WBJG12CDYI"
      }
    },
    {
      "cell_type": "code",
      "source": [
        "text = \"\"\"Sachin Tendulkar was born on 24 April 1973, Virat Kholi was born on 5 November 1988, Dhoni was born on 7 July 1981\n",
        "and finally Ricky ponting was born on 19 December 1974.\"\"\"\n",
        "\n",
        "doc = nlp(text)"
      ],
      "metadata": {
        "id": "QmV4GamDAsGA"
      },
      "execution_count": 10,
      "outputs": []
    },
    {
      "cell_type": "code",
      "source": [
        "li = []\n",
        "for e in doc.ents:\n",
        "  if e.label_ == \"DATE\":\n",
        "    li.append(e)\n",
        "li,len(li)"
      ],
      "metadata": {
        "colab": {
          "base_uri": "https://localhost:8080/"
        },
        "id": "uaP_9VSyCLyY",
        "outputId": "579ce093-2f08-4e03-9ee8-2c006afa85ed"
      },
      "execution_count": 19,
      "outputs": [
        {
          "output_type": "execute_result",
          "data": {
            "text/plain": [
              "([24 April 1973, 5 November 1988, 7 July 1981, 19 December 1974], 4)"
            ]
          },
          "metadata": {},
          "execution_count": 19
        }
      ]
    },
    {
      "cell_type": "code",
      "source": [],
      "metadata": {
        "id": "HG1boGj1Ckdc"
      },
      "execution_count": null,
      "outputs": []
    },
    {
      "cell_type": "markdown",
      "source": [
        "# Part of speech"
      ],
      "metadata": {
        "id": "hc5pTadRESuW"
      }
    },
    {
      "cell_type": "markdown",
      "source": [
        "Exercise for Spacy POS tutorial,\n",
        "\n",
        "You are parsing a news story from cnbc.com. News story is stores in news_story.txt which is available in this same folder on github. You need to,\n",
        "Extract all NOUN tokens from this story. You will have to read the file in python first to collect all the text and then extract NOUNs in a python list\n",
        "Extract all numbers (NUM POS type) in a python list\n",
        "Print a count of all POS tags in this story"
      ],
      "metadata": {
        "id": "8PhmczRoGAAz"
      }
    },
    {
      "cell_type": "code",
      "source": [
        "with open('/content/news_story.txt', 'r') as f:\n",
        "    text = f.read()\n",
        "\n",
        "nouns = []\n",
        "nums = []\n",
        "doc = nlp(text)\n",
        "for token in doc:\n",
        "  if token.pos_ == \"NOUN\":\n",
        "    nouns.append(token)\n",
        "  elif token.pos_ == \"NUM\":\n",
        "    nums.append(token)\n",
        "len(nouns),len(nums)"
      ],
      "metadata": {
        "colab": {
          "base_uri": "https://localhost:8080/"
        },
        "id": "B23qFe91HDIQ",
        "outputId": "b7938b72-4ffe-4b0a-aada-d89cfd9f60ae"
      },
      "execution_count": 32,
      "outputs": [
        {
          "output_type": "execute_result",
          "data": {
            "text/plain": [
              "(96, 19)"
            ]
          },
          "metadata": {},
          "execution_count": 32
        }
      ]
    },
    {
      "cell_type": "markdown",
      "source": [
        "Print a count of all POS tags"
      ],
      "metadata": {
        "id": "QtZ0iGJvKAHY"
      }
    },
    {
      "cell_type": "code",
      "source": [
        "count = doc.count_by(spacy.attrs.POS)\n",
        "count"
      ],
      "metadata": {
        "colab": {
          "base_uri": "https://localhost:8080/"
        },
        "id": "wCKy-wAGHKMe",
        "outputId": "d3aaa790-7af7-47c1-9a7a-76653078af51"
      },
      "execution_count": 33,
      "outputs": [
        {
          "output_type": "execute_result",
          "data": {
            "text/plain": [
              "{92: 96,\n",
              " 100: 27,\n",
              " 86: 15,\n",
              " 85: 39,\n",
              " 96: 16,\n",
              " 97: 32,\n",
              " 90: 34,\n",
              " 95: 4,\n",
              " 87: 13,\n",
              " 89: 10,\n",
              " 84: 23,\n",
              " 103: 7,\n",
              " 93: 19,\n",
              " 94: 4,\n",
              " 98: 8,\n",
              " 101: 1}"
            ]
          },
          "metadata": {},
          "execution_count": 33
        }
      ]
    },
    {
      "cell_type": "code",
      "source": [
        "for k,v in count.items():\n",
        "  print(doc.vocab[k].text,v,sep=\"|\")"
      ],
      "metadata": {
        "colab": {
          "base_uri": "https://localhost:8080/"
        },
        "id": "B9-Ay9jMKDoZ",
        "outputId": "bf83b8a6-d4fe-4231-d8ff-5439c436cc99"
      },
      "execution_count": 37,
      "outputs": [
        {
          "output_type": "stream",
          "name": "stdout",
          "text": [
            "NOUN|96\n",
            "VERB|27\n",
            "ADV|15\n",
            "ADP|39\n",
            "PROPN|16\n",
            "PUNCT|32\n",
            "DET|34\n",
            "PRON|4\n",
            "AUX|13\n",
            "CCONJ|10\n",
            "ADJ|23\n",
            "SPACE|7\n",
            "NUM|19\n",
            "PART|4\n",
            "SCONJ|8\n",
            "X|1\n"
          ]
        }
      ]
    },
    {
      "cell_type": "code",
      "source": [],
      "metadata": {
        "id": "KmhcbpzHKOsU"
      },
      "execution_count": null,
      "outputs": []
    }
  ]
}
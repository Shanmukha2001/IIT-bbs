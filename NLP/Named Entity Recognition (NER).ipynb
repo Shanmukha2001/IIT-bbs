{
 "cells": [
  {
   "cell_type": "code",
   "execution_count": null,
   "id": "10b4b073",
   "metadata": {
    "scrolled": true
   },
   "outputs": [],
   "source": [
    "!pip install spacy -q\n",
    "!python -m spacy download en_core_web_sm -q"
   ]
  },
  {
   "cell_type": "code",
   "execution_count": null,
   "id": "e7474ed7",
   "metadata": {
    "scrolled": true
   },
   "outputs": [],
   "source": [
    "# Text modules\n",
    "import spacy\n",
    "import en_core_web_sm\n",
    "from spacy.lang.en.stop_words import STOP_WORDS\n",
    "\n",
    "nlp = spacy.load(\"en_core_web_sm\")"
   ]
  },
  {
   "cell_type": "raw",
   "id": "4fad5490",
   "metadata": {},
   "source": [
    "Excersie: 1\n",
    "Extract all the Geographical (cities, Countries, states) names from a given text\n",
    "\n",
    "Expected Output:\n",
    "\n",
    "Geographical location Names: [India, Delhi, Gujarat, Tamilnadu, Andhrapradesh, Assam, Bihar]"
   ]
  },
  {
   "cell_type": "code",
   "execution_count": null,
   "id": "cba7f35e",
   "metadata": {},
   "outputs": [],
   "source": [
    "text = \"\"\"Kiran want to know the famous foods in each state of India. So, he opened Google and search for this question. Google showed that\n",
    "in Delhi it is Chaat, in Gujarat it is Dal Dhokli, in Tamilnadu it is Pongal, in Andhrapradesh it is Biryani, in Assam it is Papaya Khar,\n",
    "in Bihar it is Litti Chowkha and so on for all other states\"\"\"\n",
    "\n",
    "doc = nlp(text)"
   ]
  },
  {
   "cell_type": "code",
   "execution_count": null,
   "id": "9173c660",
   "metadata": {},
   "outputs": [],
   "source": [
    "# for ent in doc.ents:\n",
    "#     print(ent.text,\"|\", ent.label_,\"|\",nlp.expl)"
   ]
  },
  {
   "cell_type": "code",
   "execution_count": null,
   "id": "20a50771",
   "metadata": {},
   "outputs": [],
   "source": []
  }
 ],
 "metadata": {
  "kernelspec": {
   "display_name": "Python 3 (ipykernel)",
   "language": "python",
   "name": "python3"
  },
  "language_info": {
   "codemirror_mode": {
    "name": "ipython",
    "version": 3
   },
   "file_extension": ".py",
   "mimetype": "text/x-python",
   "name": "python",
   "nbconvert_exporter": "python",
   "pygments_lexer": "ipython3",
   "version": "3.11.3"
  }
 },
 "nbformat": 4,
 "nbformat_minor": 5
}
